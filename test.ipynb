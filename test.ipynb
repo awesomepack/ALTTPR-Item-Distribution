{
 "cells": [
  {
   "cell_type": "code",
   "execution_count": 4,
   "source": [
    "## Python notebook to test and debug python code for viz 2 route\r\n",
    "\r\n",
    "#Importing Dependecies\r\n",
    "import pandas as pd"
   ],
   "outputs": [],
   "metadata": {}
  },
  {
   "cell_type": "code",
   "execution_count": 1,
   "source": [
    "## generating dummy result query for viz 2\r\n",
    "## Chart of items found in a given area\r\n",
    "## route should accept \"Location\" as a key-arguement\r\n",
    "## Our GeoJson object should have , coordinates (x,y) , location\r\n"
   ],
   "outputs": [],
   "metadata": {}
  },
  {
   "cell_type": "code",
   "execution_count": 9,
   "source": [
    "# Populating locations dict with dummy data\r\n",
    "\r\n",
    "item_location = {\r\n",
    "    'ID': [1 , 2 ,3,4,5],\r\n",
    "    'Location': ['Castle' , 'Swamp' , 'Mountains' , 'Ocean' , 'Valley'] , \r\n",
    "    'Bomb': [4 , 3 , 10 , 7 , 8] , \r\n",
    "    'Arrows': [10 , 13 , 15 , 25 , 10] , \r\n",
    "    'Potions': [2 , 1 ,2 ,3 , 2] ,\r\n",
    "    'Deku Sticks': [ 8 , 5 , 3 ,7 , 6] , \r\n",
    "    'X': [0 , .5 , .5 , -.5 , -.5] , \r\n",
    "    'Y': [0 , -.5 , .5 , -.5 , .5]\r\n",
    "}\r\n"
   ],
   "outputs": [],
   "metadata": {}
  },
  {
   "cell_type": "code",
   "execution_count": 10,
   "source": [
    "# Transforming the dictionary into a pandas dataframe\r\n",
    "item_loc_df = pd.DataFrame(item_location);\r\n",
    "item_loc_df.head()"
   ],
   "outputs": [
    {
     "output_type": "execute_result",
     "data": {
      "text/html": [
       "<div>\n",
       "<style scoped>\n",
       "    .dataframe tbody tr th:only-of-type {\n",
       "        vertical-align: middle;\n",
       "    }\n",
       "\n",
       "    .dataframe tbody tr th {\n",
       "        vertical-align: top;\n",
       "    }\n",
       "\n",
       "    .dataframe thead th {\n",
       "        text-align: right;\n",
       "    }\n",
       "</style>\n",
       "<table border=\"1\" class=\"dataframe\">\n",
       "  <thead>\n",
       "    <tr style=\"text-align: right;\">\n",
       "      <th></th>\n",
       "      <th>ID</th>\n",
       "      <th>Location</th>\n",
       "      <th>Bomb</th>\n",
       "      <th>Arrows</th>\n",
       "      <th>Potions</th>\n",
       "      <th>Deku Sticks</th>\n",
       "      <th>X</th>\n",
       "      <th>Y</th>\n",
       "    </tr>\n",
       "  </thead>\n",
       "  <tbody>\n",
       "    <tr>\n",
       "      <th>0</th>\n",
       "      <td>1</td>\n",
       "      <td>Castle</td>\n",
       "      <td>4</td>\n",
       "      <td>10</td>\n",
       "      <td>2</td>\n",
       "      <td>8</td>\n",
       "      <td>0.0</td>\n",
       "      <td>0.0</td>\n",
       "    </tr>\n",
       "    <tr>\n",
       "      <th>1</th>\n",
       "      <td>2</td>\n",
       "      <td>Swamp</td>\n",
       "      <td>3</td>\n",
       "      <td>13</td>\n",
       "      <td>1</td>\n",
       "      <td>5</td>\n",
       "      <td>0.5</td>\n",
       "      <td>-0.5</td>\n",
       "    </tr>\n",
       "    <tr>\n",
       "      <th>2</th>\n",
       "      <td>3</td>\n",
       "      <td>Mountains</td>\n",
       "      <td>10</td>\n",
       "      <td>15</td>\n",
       "      <td>2</td>\n",
       "      <td>3</td>\n",
       "      <td>0.5</td>\n",
       "      <td>0.5</td>\n",
       "    </tr>\n",
       "    <tr>\n",
       "      <th>3</th>\n",
       "      <td>4</td>\n",
       "      <td>Ocean</td>\n",
       "      <td>7</td>\n",
       "      <td>25</td>\n",
       "      <td>3</td>\n",
       "      <td>7</td>\n",
       "      <td>-0.5</td>\n",
       "      <td>-0.5</td>\n",
       "    </tr>\n",
       "    <tr>\n",
       "      <th>4</th>\n",
       "      <td>5</td>\n",
       "      <td>Valley</td>\n",
       "      <td>8</td>\n",
       "      <td>10</td>\n",
       "      <td>2</td>\n",
       "      <td>6</td>\n",
       "      <td>-0.5</td>\n",
       "      <td>0.5</td>\n",
       "    </tr>\n",
       "  </tbody>\n",
       "</table>\n",
       "</div>"
      ],
      "text/plain": [
       "   ID   Location  Bomb  Arrows  Potions  Deku Sticks    X    Y\n",
       "0   1     Castle     4      10        2            8  0.0  0.0\n",
       "1   2      Swamp     3      13        1            5  0.5 -0.5\n",
       "2   3  Mountains    10      15        2            3  0.5  0.5\n",
       "3   4      Ocean     7      25        3            7 -0.5 -0.5\n",
       "4   5     Valley     8      10        2            6 -0.5  0.5"
      ]
     },
     "metadata": {},
     "execution_count": 10
    }
   ],
   "metadata": {}
  },
  {
   "cell_type": "code",
   "execution_count": 17,
   "source": [
    "# Filtering down to specific location\r\n",
    "castle = item_loc_df[item_loc_df['Location'] == 'Swamp']"
   ],
   "outputs": [],
   "metadata": {}
  },
  {
   "cell_type": "code",
   "execution_count": 19,
   "source": [
    "# Displaying query result\r\n",
    "castle.head()"
   ],
   "outputs": [
    {
     "output_type": "execute_result",
     "data": {
      "text/html": [
       "<div>\n",
       "<style scoped>\n",
       "    .dataframe tbody tr th:only-of-type {\n",
       "        vertical-align: middle;\n",
       "    }\n",
       "\n",
       "    .dataframe tbody tr th {\n",
       "        vertical-align: top;\n",
       "    }\n",
       "\n",
       "    .dataframe thead th {\n",
       "        text-align: right;\n",
       "    }\n",
       "</style>\n",
       "<table border=\"1\" class=\"dataframe\">\n",
       "  <thead>\n",
       "    <tr style=\"text-align: right;\">\n",
       "      <th></th>\n",
       "      <th>ID</th>\n",
       "      <th>Location</th>\n",
       "      <th>Bomb</th>\n",
       "      <th>Arrows</th>\n",
       "      <th>Potions</th>\n",
       "      <th>Deku Sticks</th>\n",
       "      <th>X</th>\n",
       "      <th>Y</th>\n",
       "    </tr>\n",
       "  </thead>\n",
       "  <tbody>\n",
       "    <tr>\n",
       "      <th>1</th>\n",
       "      <td>2</td>\n",
       "      <td>Swamp</td>\n",
       "      <td>3</td>\n",
       "      <td>13</td>\n",
       "      <td>1</td>\n",
       "      <td>5</td>\n",
       "      <td>0.5</td>\n",
       "      <td>-0.5</td>\n",
       "    </tr>\n",
       "  </tbody>\n",
       "</table>\n",
       "</div>"
      ],
      "text/plain": [
       "   ID Location  Bomb  Arrows  Potions  Deku Sticks    X    Y\n",
       "1   2    Swamp     3      13        1            5  0.5 -0.5"
      ]
     },
     "metadata": {},
     "execution_count": 19
    }
   ],
   "metadata": {}
  },
  {
   "cell_type": "code",
   "execution_count": 21,
   "source": [
    "# Plotting result as a bar graph\r\n",
    "# Verifying that structure is such that we can plot data as a bar chart\r\n",
    "castle.plot.bar(x = 'Location' , y = ['Bomb' , 'Arrows' , 'Potions' , 'Deku Sticks'] )"
   ],
   "outputs": [
    {
     "output_type": "execute_result",
     "data": {
      "text/plain": [
       "<matplotlib.axes._subplots.AxesSubplot at 0x1b57ba1f5f8>"
      ]
     },
     "metadata": {},
     "execution_count": 21
    },
    {
     "output_type": "display_data",
     "data": {
      "image/png": "[encoded data removed]",
      "text/plain": [
       "<Figure size 432x288 with 1 Axes>"
      ]
     },
     "metadata": {
      "needs_background": "light"
     }
    }
   ],
   "metadata": {}
  },
  {
   "cell_type": "code",
   "execution_count": null,
   "source": [],
   "outputs": [],
   "metadata": {}
  }
 ],
 "metadata": {
  "orig_nbformat": 4,
  "language_info": {
   "name": "python",
   "version": "3.6.10",
   "mimetype": "text/x-python",
   "codemirror_mode": {
    "name": "ipython",
    "version": 3
   },
   "pygments_lexer": "ipython3",
   "nbconvert_exporter": "python",
   "file_extension": ".py"
  },
  "kernelspec": {
   "name": "python3",
   "display_name": "Python 3.6.10 64-bit ('PythonData': conda)"
  },
  "interpreter": {
   "hash": "a6352143dce21b07603aac0fa434d3e1e55b5c315d58ebec7b9f4a72b8a8d4ad"
  }
 },
 "nbformat": 4,
 "nbformat_minor": 2
}